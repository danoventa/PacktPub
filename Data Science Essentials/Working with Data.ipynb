{
 "cells": [
  {
   "cell_type": "code",
   "execution_count": 1,
   "metadata": {
    "collapsed": false
   },
   "outputs": [
    {
     "data": {
      "text/html": [
       "<div>\n",
       "<table border=\"1\" class=\"dataframe\">\n",
       "  <thead>\n",
       "    <tr style=\"text-align: right;\">\n",
       "      <th></th>\n",
       "      <th>cloudy</th>\n",
       "      <th>foggy</th>\n",
       "      <th>rainy</th>\n",
       "      <th>snowy</th>\n",
       "      <th>sunny</th>\n",
       "    </tr>\n",
       "  </thead>\n",
       "  <tbody>\n",
       "    <tr>\n",
       "      <th>0</th>\n",
       "      <td>0.0</td>\n",
       "      <td>0.0</td>\n",
       "      <td>0.0</td>\n",
       "      <td>0.0</td>\n",
       "      <td>1.0</td>\n",
       "    </tr>\n",
       "    <tr>\n",
       "      <th>1</th>\n",
       "      <td>1.0</td>\n",
       "      <td>0.0</td>\n",
       "      <td>0.0</td>\n",
       "      <td>0.0</td>\n",
       "      <td>0.0</td>\n",
       "    </tr>\n",
       "    <tr>\n",
       "      <th>2</th>\n",
       "      <td>0.0</td>\n",
       "      <td>0.0</td>\n",
       "      <td>0.0</td>\n",
       "      <td>1.0</td>\n",
       "      <td>0.0</td>\n",
       "    </tr>\n",
       "    <tr>\n",
       "      <th>3</th>\n",
       "      <td>0.0</td>\n",
       "      <td>0.0</td>\n",
       "      <td>1.0</td>\n",
       "      <td>0.0</td>\n",
       "      <td>0.0</td>\n",
       "    </tr>\n",
       "    <tr>\n",
       "      <th>4</th>\n",
       "      <td>0.0</td>\n",
       "      <td>1.0</td>\n",
       "      <td>0.0</td>\n",
       "      <td>0.0</td>\n",
       "      <td>0.0</td>\n",
       "    </tr>\n",
       "  </tbody>\n",
       "</table>\n",
       "</div>"
      ],
      "text/plain": [
       "   cloudy  foggy  rainy  snowy  sunny\n",
       "0     0.0    0.0    0.0    0.0    1.0\n",
       "1     1.0    0.0    0.0    0.0    0.0\n",
       "2     0.0    0.0    0.0    1.0    0.0\n",
       "3     0.0    0.0    1.0    0.0    0.0\n",
       "4     0.0    1.0    0.0    0.0    0.0"
      ]
     },
     "execution_count": 1,
     "metadata": {},
     "output_type": "execute_result"
    }
   ],
   "source": [
    "import pandas as pd\n",
    "categorical_feature = pd.Series(['sunny', 'cloudy', 'snowy', 'rainy', 'foggy'])\n",
    "mapping = pd.get_dummies(categorical_feature)\n",
    "mapping"
   ]
  },
  {
   "cell_type": "code",
   "execution_count": 2,
   "metadata": {
    "collapsed": false
   },
   "outputs": [
    {
     "data": {
      "text/plain": [
       "0    1.0\n",
       "1    0.0\n",
       "2    0.0\n",
       "3    0.0\n",
       "4    0.0\n",
       "Name: sunny, dtype: float64"
      ]
     },
     "execution_count": 2,
     "metadata": {},
     "output_type": "execute_result"
    }
   ],
   "source": [
    "mapping['sunny']"
   ]
  },
  {
   "cell_type": "code",
   "execution_count": 3,
   "metadata": {
    "collapsed": true
   },
   "outputs": [],
   "source": [
    "from sklearn.preprocessing import OneHotEncoder"
   ]
  },
  {
   "cell_type": "code",
   "execution_count": 5,
   "metadata": {
    "collapsed": false
   },
   "outputs": [],
   "source": [
    "from sklearn.preprocessing import LabelEncoder"
   ]
  },
  {
   "cell_type": "code",
   "execution_count": 6,
   "metadata": {
    "collapsed": true
   },
   "outputs": [],
   "source": [
    "le = LabelEncoder()"
   ]
  },
  {
   "cell_type": "code",
   "execution_count": 7,
   "metadata": {
    "collapsed": true
   },
   "outputs": [],
   "source": [
    "ohe = OneHotEncoder()"
   ]
  },
  {
   "cell_type": "code",
   "execution_count": 8,
   "metadata": {
    "collapsed": true
   },
   "outputs": [],
   "source": [
    "levels = ['sunny', 'cloudy', 'snowy', 'rainy', 'foggy']"
   ]
  },
  {
   "cell_type": "code",
   "execution_count": 9,
   "metadata": {
    "collapsed": true
   },
   "outputs": [],
   "source": [
    "fit_levels = le.fit_transform(levels)"
   ]
  },
  {
   "cell_type": "code",
   "execution_count": 10,
   "metadata": {
    "collapsed": false
   },
   "outputs": [
    {
     "data": {
      "text/plain": [
       "OneHotEncoder(categorical_features='all', dtype=<class 'float'>,\n",
       "       handle_unknown='error', n_values='auto', sparse=True)"
      ]
     },
     "execution_count": 10,
     "metadata": {},
     "output_type": "execute_result"
    }
   ],
   "source": [
    "ohe.fit([[fit_levels[0]], [fit_levels[1]], [fit_levels[2]], [fit_levels[3]], [fit_levels[4]]])"
   ]
  },
  {
   "cell_type": "code",
   "execution_count": 11,
   "metadata": {
    "collapsed": false
   },
   "outputs": [
    {
     "name": "stdout",
     "output_type": "stream",
     "text": [
      "[[ 0.  0.  0.  0.  1.]]\n"
     ]
    }
   ],
   "source": [
    "print(ohe.transform([le.transform(['sunny'])]).toarray())"
   ]
  },
  {
   "cell_type": "code",
   "execution_count": 12,
   "metadata": {
    "collapsed": false
   },
   "outputs": [
    {
     "name": "stdout",
     "output_type": "stream",
     "text": [
      "[[ 1.  0.  0.  0.  0.]]\n"
     ]
    }
   ],
   "source": [
    "print(ohe.transform([le.transform(['cloudy'])]).toarray())"
   ]
  },
  {
   "cell_type": "code",
   "execution_count": 13,
   "metadata": {
    "collapsed": false
   },
   "outputs": [
    {
     "name": "stderr",
     "output_type": "stream",
     "text": [
      "Downloading dataset from http://people.csail.mit.edu/jrennie/20Newsgroups/20news-bydate.tar.gz (14 MB)\n"
     ]
    }
   ],
   "source": [
    "from sklearn.datasets import fetch_20newsgroups\n",
    "categories = ['sci.med', 'sci.space']\n",
    "twenty_sci_news = fetch_20newsgroups(categories=categories)"
   ]
  },
  {
   "cell_type": "code",
   "execution_count": 19,
   "metadata": {
    "collapsed": false
   },
   "outputs": [
    {
     "name": "stdout",
     "output_type": "stream",
     "text": [
      "From: flb@flb.optiplan.fi (\"F.Baube[tm]\")\n",
      "Subject: Vandalizing the sky\n",
      "X-Added: Forwarded by Space Digest\n",
      "Organization: [via International Space University]\n",
      "Original-Sender: isu@VACATION.VENARI.CS.CMU.EDU\n",
      "Distribution: sci\n",
      "Lines: 12\n",
      "\n",
      "From: \"Phil G. Fraering\" <pgf@srl03.cacs.usl.edu>\n",
      "> \n",
      "> Finally: this isn't the Bronze Age, [..]\n",
      "> please try to remember that there are more human activities than\n",
      "> those practiced by the Warrior Caste, the Farming Caste, and the\n",
      "> Priesthood.\n",
      "\n",
      "Right, the Profiting Caste is blessed by God, and may \n",
      " freely blare its presence in the evening twilight ..\n",
      "\n",
      "-- \n",
      "* Fred Baube (tm)\n",
      "\n"
     ]
    }
   ],
   "source": [
    "print(\n",
    "    twenty_sci_news.data[0])"
   ]
  },
  {
   "cell_type": "code",
   "execution_count": 15,
   "metadata": {
    "collapsed": false
   },
   "outputs": [
    {
     "data": {
      "text/plain": [
       "array([ 'C:\\\\Users\\\\Executor\\\\scikit_learn_data\\\\20news_home\\\\20news-bydate-train\\\\sci.space\\\\61116',\n",
       "       'C:\\\\Users\\\\Executor\\\\scikit_learn_data\\\\20news_home\\\\20news-bydate-train\\\\sci.med\\\\58122',\n",
       "       'C:\\\\Users\\\\Executor\\\\scikit_learn_data\\\\20news_home\\\\20news-bydate-train\\\\sci.med\\\\58903',\n",
       "       ...,\n",
       "       'C:\\\\Users\\\\Executor\\\\scikit_learn_data\\\\20news_home\\\\20news-bydate-train\\\\sci.space\\\\60774',\n",
       "       'C:\\\\Users\\\\Executor\\\\scikit_learn_data\\\\20news_home\\\\20news-bydate-train\\\\sci.space\\\\60954',\n",
       "       'C:\\\\Users\\\\Executor\\\\scikit_learn_data\\\\20news_home\\\\20news-bydate-train\\\\sci.med\\\\58911'], \n",
       "      dtype='<U98')"
      ]
     },
     "execution_count": 15,
     "metadata": {},
     "output_type": "execute_result"
    }
   ],
   "source": [
    "twenty_sci_news.filenames"
   ]
  },
  {
   "cell_type": "code",
   "execution_count": 16,
   "metadata": {
    "collapsed": false
   },
   "outputs": [
    {
     "name": "stdout",
     "output_type": "stream",
     "text": [
      "1\n"
     ]
    }
   ],
   "source": [
    "print(twenty_sci_news.target[0])"
   ]
  },
  {
   "cell_type": "code",
   "execution_count": 18,
   "metadata": {
    "collapsed": false
   },
   "outputs": [
    {
     "name": "stdout",
     "output_type": "stream",
     "text": [
      "sci.space\n"
     ]
    }
   ],
   "source": [
    "print(twenty_sci_news.target_names[twenty_sci_news.target[0]])"
   ]
  },
  {
   "cell_type": "code",
   "execution_count": 21,
   "metadata": {
    "collapsed": false
   },
   "outputs": [],
   "source": [
    "from sklearn.feature_extraction.text import CountVectorizer"
   ]
  },
  {
   "cell_type": "code",
   "execution_count": 22,
   "metadata": {
    "collapsed": false
   },
   "outputs": [
    {
     "data": {
      "text/plain": [
       "(1187, 25638)"
      ]
     },
     "execution_count": 22,
     "metadata": {},
     "output_type": "execute_result"
    }
   ],
   "source": [
    "count_vect = CountVectorizer()\n",
    "word_count = count_vect.fit_transform(twenty_sci_news.data)\n",
    "word_count.shape"
   ]
  },
  {
   "cell_type": "code",
   "execution_count": 24,
   "metadata": {
    "collapsed": false
   },
   "outputs": [
    {
     "name": "stdout",
     "output_type": "stream",
     "text": [
      "  (0, 10827)\t2\n",
      "  (0, 10501)\t2\n",
      "  (0, 17170)\t1\n",
      "  (0, 10341)\t1\n",
      "  (0, 4762)\t2\n",
      "  (0, 23381)\t2\n",
      "  (0, 22345)\t1\n",
      "  (0, 24461)\t1\n",
      "  (0, 23137)\t7\n",
      "  (0, 21382)\t1\n",
      "  (0, 3233)\t1\n",
      "  (0, 10713)\t1\n",
      "  (0, 5650)\t3\n",
      "  (0, 21686)\t2\n",
      "  (0, 8438)\t1\n",
      "  (0, 17217)\t1\n",
      "  (0, 24626)\t1\n",
      "  (0, 13158)\t1\n",
      "  (0, 24151)\t1\n",
      "  (0, 17235)\t1\n",
      "  (0, 20909)\t1\n",
      "  (0, 13359)\t1\n",
      "  (0, 24415)\t1\n",
      "  (0, 24547)\t1\n",
      "  (0, 7646)\t1\n",
      "  :\t:\n",
      "  (0, 15968)\t1\n",
      "  (0, 12362)\t1\n",
      "  (0, 3191)\t1\n",
      "  (0, 23129)\t1\n",
      "  (0, 23241)\t1\n",
      "  (0, 18474)\t1\n",
      "  (0, 24930)\t1\n",
      "  (0, 6017)\t3\n",
      "  (0, 10188)\t1\n",
      "  (0, 3808)\t2\n",
      "  (0, 18642)\t1\n",
      "  (0, 20110)\t1\n",
      "  (0, 18744)\t1\n",
      "  (0, 13318)\t1\n",
      "  (0, 5148)\t1\n",
      "  (0, 11330)\t1\n",
      "  (0, 15246)\t1\n",
      "  (0, 10785)\t1\n",
      "  (0, 5134)\t1\n",
      "  (0, 13384)\t1\n",
      "  (0, 18586)\t1\n",
      "  (0, 12716)\t1\n",
      "  (0, 9796)\t1\n",
      "  (0, 23849)\t1\n",
      "  (0, 10778)\t1\n"
     ]
    }
   ],
   "source": [
    "print(word_count[0])"
   ]
  },
  {
   "cell_type": "code",
   "execution_count": 26,
   "metadata": {
    "collapsed": false
   },
   "outputs": [
    {
     "name": "stdout",
     "output_type": "stream",
     "text": [
      "Word:  from appears 2 times\n",
      "Word:  flb appears 2 times\n",
      "Word:  optiplan appears 1 times\n",
      "Word:  fi appears 1 times\n",
      "Word:  baube appears 2 times\n",
      "Word:  tm appears 2 times\n",
      "Word:  subject appears 1 times\n",
      "Word:  vandalizing appears 1 times\n",
      "Word:  the appears 7 times\n",
      "Word:  sky appears 1 times\n",
      "Word:  added appears 1 times\n",
      "Word:  forwarded appears 1 times\n",
      "Word:  by appears 3 times\n",
      "Word:  space appears 2 times\n",
      "Word:  digest appears 1 times\n",
      "Word:  organization appears 1 times\n",
      "Word:  via appears 1 times\n",
      "Word:  international appears 1 times\n",
      "Word:  university appears 1 times\n",
      "Word:  original appears 1 times\n",
      "Word:  sender appears 1 times\n",
      "Word:  isu appears 1 times\n",
      "Word:  vacation appears 1 times\n",
      "Word:  venari appears 1 times\n",
      "Word:  cs appears 1 times\n",
      "Word:  cmu appears 1 times\n",
      "Word:  edu appears 2 times\n",
      "Word:  distribution appears 1 times\n",
      "Word:  sci appears 1 times\n",
      "Word:  lines appears 1 times\n",
      "Word:  12 appears 1 times\n",
      "Word:  phil appears 1 times\n",
      "Word:  fraering appears 1 times\n",
      "Word:  pgf appears 1 times\n",
      "Word:  srl03 appears 1 times\n",
      "Word:  cacs appears 1 times\n",
      "Word:  usl appears 1 times\n",
      "Word:  finally appears 1 times\n",
      "Word:  this appears 1 times\n",
      "Word:  isn appears 1 times\n",
      "Word:  bronze appears 1 times\n",
      "Word:  age appears 1 times\n",
      "Word:  please appears 1 times\n",
      "Word:  try appears 1 times\n",
      "Word:  to appears 1 times\n",
      "Word:  remember appears 1 times\n",
      "Word:  that appears 1 times\n",
      "Word:  there appears 1 times\n",
      "Word:  are appears 1 times\n",
      "Word:  more appears 1 times\n",
      "Word:  human appears 1 times\n",
      "Word:  activities appears 1 times\n",
      "Word:  than appears 1 times\n",
      "Word:  those appears 1 times\n",
      "Word:  practiced appears 1 times\n",
      "Word:  warrior appears 1 times\n",
      "Word:  caste appears 3 times\n",
      "Word:  farming appears 1 times\n",
      "Word:  and appears 2 times\n",
      "Word:  priesthood appears 1 times\n",
      "Word:  right appears 1 times\n",
      "Word:  profiting appears 1 times\n",
      "Word:  is appears 1 times\n",
      "Word:  blessed appears 1 times\n",
      "Word:  god appears 1 times\n",
      "Word:  may appears 1 times\n",
      "Word:  freely appears 1 times\n",
      "Word:  blare appears 1 times\n",
      "Word:  its appears 1 times\n",
      "Word:  presence appears 1 times\n",
      "Word:  in appears 1 times\n",
      "Word:  evening appears 1 times\n",
      "Word:  twilight appears 1 times\n",
      "Word:  fred appears 1 times\n"
     ]
    }
   ],
   "source": [
    "word_list = count_vect.get_feature_names()\n",
    "for n in word_count[0].indices:\n",
    "    print(\"Word: \", word_list[n], \"appears\", word_count[0, n], \"times\")"
   ]
  },
  {
   "cell_type": "code",
   "execution_count": 28,
   "metadata": {
    "collapsed": false
   },
   "outputs": [
    {
     "name": "stdout",
     "output_type": "stream",
     "text": [
      "Word:  from has frequyency 0.021978021978\n",
      "Word:  flb has frequyency 0.021978021978\n",
      "Word:  optiplan has frequyency 0.010989010989\n",
      "Word:  fi has frequyency 0.010989010989\n",
      "Word:  baube has frequyency 0.021978021978\n",
      "Word:  tm has frequyency 0.021978021978\n",
      "Word:  subject has frequyency 0.010989010989\n",
      "Word:  vandalizing has frequyency 0.010989010989\n",
      "Word:  the has frequyency 0.0769230769231\n",
      "Word:  sky has frequyency 0.010989010989\n",
      "Word:  added has frequyency 0.010989010989\n",
      "Word:  forwarded has frequyency 0.010989010989\n",
      "Word:  by has frequyency 0.032967032967\n",
      "Word:  space has frequyency 0.021978021978\n",
      "Word:  digest has frequyency 0.010989010989\n",
      "Word:  organization has frequyency 0.010989010989\n",
      "Word:  via has frequyency 0.010989010989\n",
      "Word:  international has frequyency 0.010989010989\n",
      "Word:  university has frequyency 0.010989010989\n",
      "Word:  original has frequyency 0.010989010989\n",
      "Word:  sender has frequyency 0.010989010989\n",
      "Word:  isu has frequyency 0.010989010989\n",
      "Word:  vacation has frequyency 0.010989010989\n",
      "Word:  venari has frequyency 0.010989010989\n",
      "Word:  cs has frequyency 0.010989010989\n",
      "Word:  cmu has frequyency 0.010989010989\n",
      "Word:  edu has frequyency 0.021978021978\n",
      "Word:  distribution has frequyency 0.010989010989\n",
      "Word:  sci has frequyency 0.010989010989\n",
      "Word:  lines has frequyency 0.010989010989\n",
      "Word:  12 has frequyency 0.010989010989\n",
      "Word:  phil has frequyency 0.010989010989\n",
      "Word:  fraering has frequyency 0.010989010989\n",
      "Word:  pgf has frequyency 0.010989010989\n",
      "Word:  srl03 has frequyency 0.010989010989\n",
      "Word:  cacs has frequyency 0.010989010989\n",
      "Word:  usl has frequyency 0.010989010989\n",
      "Word:  finally has frequyency 0.010989010989\n",
      "Word:  this has frequyency 0.010989010989\n",
      "Word:  isn has frequyency 0.010989010989\n",
      "Word:  bronze has frequyency 0.010989010989\n",
      "Word:  age has frequyency 0.010989010989\n",
      "Word:  please has frequyency 0.010989010989\n",
      "Word:  try has frequyency 0.010989010989\n",
      "Word:  to has frequyency 0.010989010989\n",
      "Word:  remember has frequyency 0.010989010989\n",
      "Word:  that has frequyency 0.010989010989\n",
      "Word:  there has frequyency 0.010989010989\n",
      "Word:  are has frequyency 0.010989010989\n",
      "Word:  more has frequyency 0.010989010989\n",
      "Word:  human has frequyency 0.010989010989\n",
      "Word:  activities has frequyency 0.010989010989\n",
      "Word:  than has frequyency 0.010989010989\n",
      "Word:  those has frequyency 0.010989010989\n",
      "Word:  practiced has frequyency 0.010989010989\n",
      "Word:  warrior has frequyency 0.010989010989\n",
      "Word:  caste has frequyency 0.032967032967\n",
      "Word:  farming has frequyency 0.010989010989\n",
      "Word:  and has frequyency 0.021978021978\n",
      "Word:  priesthood has frequyency 0.010989010989\n",
      "Word:  right has frequyency 0.010989010989\n",
      "Word:  profiting has frequyency 0.010989010989\n",
      "Word:  is has frequyency 0.010989010989\n",
      "Word:  blessed has frequyency 0.010989010989\n",
      "Word:  god has frequyency 0.010989010989\n",
      "Word:  may has frequyency 0.010989010989\n",
      "Word:  freely has frequyency 0.010989010989\n",
      "Word:  blare has frequyency 0.010989010989\n",
      "Word:  its has frequyency 0.010989010989\n",
      "Word:  presence has frequyency 0.010989010989\n",
      "Word:  in has frequyency 0.010989010989\n",
      "Word:  evening has frequyency 0.010989010989\n",
      "Word:  twilight has frequyency 0.010989010989\n",
      "Word:  fred has frequyency 0.010989010989\n"
     ]
    }
   ],
   "source": [
    "from sklearn.feature_extraction.text import TfidfVectorizer\n",
    "tf_vect = TfidfVectorizer(use_idf=False, norm='l1')\n",
    "word_freq = tf_vect.fit_transform(twenty_sci_news.data)\n",
    "word_list = tf_vect.get_feature_names()\n",
    "for n in word_freq[0].indices:\n",
    "    print(\"Word: \", word_list[n], \"has frequyency\", word_freq[0, n])"
   ]
  },
  {
   "cell_type": "code",
   "execution_count": 29,
   "metadata": {
    "collapsed": true
   },
   "outputs": [],
   "source": [
    "from sklearn.feature_extraction.text import TfidfVectorizer"
   ]
  },
  {
   "cell_type": "code",
   "execution_count": 30,
   "metadata": {
    "collapsed": false
   },
   "outputs": [
    {
     "name": "stdout",
     "output_type": "stream",
     "text": [
      "Word: fred has tfidf 0.0893604523484\n",
      "Word: twilight has tfidf 0.139389277822\n",
      "Word: evening has tfidf 0.113026734241\n",
      "Word: in has tfidf 0.0239166759663\n",
      "Word: presence has tfidf 0.118805671173\n",
      "Word: its has tfidf 0.0614868335851\n",
      "Word: blare has tfidf 0.150393472236\n",
      "Word: freely has tfidf 0.118805671173\n",
      "Word: may has tfidf 0.0543546855668\n",
      "Word: god has tfidf 0.118805671173\n",
      "Word: blessed has tfidf 0.150393472236\n",
      "Word: is has tfidf 0.0255349229448\n",
      "Word: profiting has tfidf 0.150393472236\n",
      "Word: right has tfidf 0.0677614245918\n",
      "Word: priesthood has tfidf 0.144196231323\n",
      "Word: and has tfidf 0.0491489948076\n",
      "Word: farming has tfidf 0.144196231323\n",
      "Word: caste has tfidf 0.43258869397\n",
      "Word: warrior has tfidf 0.144196231323\n",
      "Word: practiced has tfidf 0.13214100026\n",
      "Word: those has tfidf 0.0604689129732\n",
      "Word: than has tfidf 0.0519193033019\n",
      "Word: activities has tfidf 0.0906664266256\n",
      "Word: human has tfidf 0.0844691857132\n",
      "Word: more has tfidf 0.0464972413341\n",
      "Word: are has tfidf 0.0346326118207\n",
      "Word: there has tfidf 0.0385269093384\n",
      "Word: that has tfidf 0.0267700801862\n",
      "Word: remember has tfidf 0.0768869173043\n",
      "Word: to has tfidf 0.0231216788081\n",
      "Word: try has tfidf 0.0729988406625\n",
      "Word: please has tfidf 0.0712897702965\n",
      "Word: age has tfidf 0.0915832449085\n",
      "Word: bronze has tfidf 0.144196231323\n",
      "Word: isn has tfidf 0.0729988406625\n",
      "Word: this has tfidf 0.031080086794\n",
      "Word: finally has tfidf 0.0974705239534\n",
      "Word: usl has tfidf 0.11179542894\n",
      "Word: cacs has tfidf 0.114332708518\n",
      "Word: srl03 has tfidf 0.120529949431\n",
      "Word: pgf has tfidf 0.114332708518\n",
      "Word: fraering has tfidf 0.113026734241\n",
      "Word: phil has tfidf 0.102277477455\n",
      "Word: 12 has tfidf 0.0761881973035\n",
      "Word: lines has tfidf 0.0217240753918\n",
      "Word: sci has tfidf 0.0667030092891\n",
      "Word: distribution has tfidf 0.0529072920233\n",
      "Word: edu has tfidf 0.0594785286752\n",
      "Word: cmu has tfidf 0.0813416780327\n",
      "Word: cs has tfidf 0.0546056629081\n",
      "Word: venari has tfidf 0.10306090845\n",
      "Word: vacation has tfidf 0.0994009471158\n",
      "Word: isu has tfidf 0.0994009471158\n",
      "Word: sender has tfidf 0.0930360635043\n",
      "Word: original has tfidf 0.0851531154779\n",
      "Word: university has tfidf 0.0447241502507\n",
      "Word: international has tfidf 0.0813416780327\n",
      "Word: via has tfidf 0.0831632114361\n",
      "Word: organization has tfidf 0.0222048605251\n",
      "Word: digest has tfidf 0.0945939936141\n",
      "Word: space has tfidf 0.0981412939895\n",
      "Word: by has tfidf 0.119911357781\n",
      "Word: forwarded has tfidf 0.0962734394352\n",
      "Word: added has tfidf 0.0881291470477\n",
      "Word: sky has tfidf 0.091119958706\n",
      "Word: the has tfidf 0.157543062907\n",
      "Word: vandalizing has tfidf 0.10306090845\n",
      "Word: subject has tfidf 0.0215419781272\n",
      "Word: tm has tfidf 0.219051510033\n",
      "Word: baube has tfidf 0.26428200052\n",
      "Word: fi has tfidf 0.109525755017\n",
      "Word: optiplan has tfidf 0.13214100026\n",
      "Word: flb has tfidf 0.26428200052\n",
      "Word: from has tfidf 0.0430839562544\n"
     ]
    }
   ],
   "source": [
    "tfidf_vect = TfidfVectorizer()\n",
    "word_tfidf = tfidf_vect.fit_transform(twenty_sci_news.data)\n",
    "word_list = tfidf_vect.get_feature_names()\n",
    "for n in word_tfidf[0].indices:\n",
    "    print(\"Word:\", word_list[n], \"has tfidf\", word_tfidf[0, n])"
   ]
  },
  {
   "cell_type": "code",
   "execution_count": null,
   "metadata": {
    "collapsed": true
   },
   "outputs": [],
   "source": []
  }
 ],
 "metadata": {
  "anaconda-cloud": {},
  "kernelspec": {
   "display_name": "Python [default]",
   "language": "python",
   "name": "python3"
  },
  "language_info": {
   "codemirror_mode": {
    "name": "ipython",
    "version": 3
   },
   "file_extension": ".py",
   "mimetype": "text/x-python",
   "name": "python",
   "nbconvert_exporter": "python",
   "pygments_lexer": "ipython3",
   "version": "3.5.2"
  }
 },
 "nbformat": 4,
 "nbformat_minor": 1
}
