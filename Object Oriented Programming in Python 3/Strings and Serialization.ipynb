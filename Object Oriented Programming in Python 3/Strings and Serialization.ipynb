{
 "cells": [
  {
   "cell_type": "code",
   "execution_count": 5,
   "metadata": {
    "collapsed": false
   },
   "outputs": [
    {
     "name": "stdout",
     "output_type": "stream",
     "text": [
      "4\n",
      "2\n",
      "13\n",
      "14\n",
      "whoopsies\n"
     ]
    }
   ],
   "source": [
    "# basics of string manipulations, just for funsies\n",
    "\n",
    "s = \"Hellloooooo World!\"\n",
    "\n",
    "print(s.count('l'))\n",
    "\n",
    "print(s.find(\"l\"))\n",
    "\n",
    "print(s.rindex('o'))\n",
    "\n",
    "print(s.rfind('r'))\n",
    "\n",
    "try:\n",
    "    s.rindex('m')\n",
    "except ValueError:\n",
    "    print('whoopsies')"
   ]
  },
  {
   "cell_type": "code",
   "execution_count": 12,
   "metadata": {
    "collapsed": false
   },
   "outputs": [
    {
     "name": "stdout",
     "output_type": "stream",
     "text": [
      "this is a string with things and stuff\n",
      "['this', 'is', 'a', 'string', 'with', 'things', 'and', 'stuff']\n",
      "thisΩisΩaΩstringΩwithΩthingsΩandΩstuff\n",
      "this∑is∑a∑string∑with∑things∑and∑stuff\n"
     ]
    }
   ],
   "source": [
    "ss = 'this is a string with things and stuff'\n",
    "\n",
    "ssl = ss.split(' ')\n",
    "\n",
    "print(ss)\n",
    "print(ssl)\n",
    "\n",
    "ssj = 'Ω'.join(ssl)\n",
    "print(ssj)\n",
    "ssjj = ssj.replace('Ω', '∑')\n",
    "print(ssjj)"
   ]
  },
  {
   "cell_type": "code",
   "execution_count": 14,
   "metadata": {
    "collapsed": false
   },
   "outputs": [
    {
     "name": "stdout",
     "output_type": "stream",
     "text": [
      "words derps and words and derpus of words\n",
      "\n",
      "wordy oppa oppu word word oppa ippa\n"
     ]
    }
   ],
   "source": [
    "temply = \"words {} and words and {} of words\"\n",
    "print(temply.format('derps', 'derpus'))\n",
    "\n",
    "print()\n",
    "\n",
    "temply2 = 'wordy {0} {1} word word {0} {2}'\n",
    "print(temply2.format('oppa', 'oppu', 'ippa'))\n",
    "\n",
    "# note, can't use empty curly brackets and indexed ones, there will be errors"
   ]
  },
  {
   "cell_type": "code",
   "execution_count": 18,
   "metadata": {
    "collapsed": false
   },
   "outputs": [
    {
     "name": "stdout",
     "output_type": "stream",
     "text": [
      "\n",
      " Alexa is it?\n",
      " How are you Alexa?\n",
      " \n",
      " Do you like my Dog?\n",
      " Derpy derpy derp\n",
      "\n"
     ]
    }
   ],
   "source": [
    "templo = '''\n",
    " {name} is it?\n",
    " How are you {name}?\n",
    " \n",
    " Do you like my {pet}?\n",
    " Derpy derpy {derp}\n",
    "'''\n",
    "\n",
    "print(templo.format(name=\"Alexa\", pet='Dog', derp='derp'))"
   ]
  },
  {
   "cell_type": "code",
   "execution_count": 23,
   "metadata": {
    "collapsed": false
   },
   "outputs": [
    {
     "name": "stdout",
     "output_type": "stream",
     "text": [
      "\n",
      "\n",
      "(1, 2) buckle my shoe\n",
      "(3, 4) derp the floor\n",
      "\n",
      "(7, 8) aligators gate\n",
      "\n",
      "\n"
     ]
    }
   ],
   "source": [
    "templi = '''\n",
    "\n",
    "{0[0]} {action1}\n",
    "{0[1]} {action2}\n",
    "\n",
    "(7, 8) aligators gate\n",
    "\n",
    "'''\n",
    "numy = ((1, 2), (3, 4))\n",
    "print(templi.format(numy, action1='buckle my shoe', action2='derp the floor'))"
   ]
  },
  {
   "cell_type": "code",
   "execution_count": 35,
   "metadata": {
    "collapsed": false
   },
   "outputs": [
    {
     "name": "stdout",
     "output_type": "stream",
     "text": [
      "'hello, world' matches pattern 'hello'\n"
     ]
    }
   ],
   "source": [
    "import sys\n",
    "import re\n",
    "\n",
    "def find_match(pattern, search_string):\n",
    "    match = re.match(pattern, search_string)\n",
    "    \n",
    "    if match:\n",
    "        template = \"'{}' matches pattern '{}'\"\n",
    "    else:\n",
    "        template = \"'{}' does not match pattern '{}'\"\n",
    "        \n",
    "    return template.format(search_string, pattern)\n",
    "\n",
    "\n",
    "print(find_match('hello', 'hello, world'))"
   ]
  },
  {
   "cell_type": "code",
   "execution_count": 33,
   "metadata": {
    "collapsed": false
   },
   "outputs": [
    {
     "name": "stdout",
     "output_type": "stream",
     "text": [
      "'hello world' matches pattern '^hello world$'\n",
      "'hello, worl' does not match pattern '^hello, world$'\n"
     ]
    }
   ],
   "source": [
    "print(find_match('^hello world$', 'hello world'))\n",
    "print(find_match('^hello, world$', 'hello, worl'))"
   ]
  },
  {
   "cell_type": "code",
   "execution_count": 39,
   "metadata": {
    "collapsed": false
   },
   "outputs": [
    {
     "name": "stdout",
     "output_type": "stream",
     "text": [
      "'hello  world' does not match pattern '^hello [a-z] world$'\n",
      "'hello  world' matches pattern '^hello [a-z]* world$'\n",
      "'hello a world' matches pattern '^hello [a-z] world$'\n",
      "'hello 2 world' matches pattern '^hello [a-zA-Z0-9] world$'\n",
      "'hello A world' matches pattern '^hello [a-zA-Z0-9] world$'\n",
      "'hello * world' does not match pattern '^hello [a-zA-Z0-9] world$'\n"
     ]
    }
   ],
   "source": [
    "# ^ and $ indicate the start and end of the pattern\n",
    "print(find_match('^hello [a-z] world$', 'hello  world'))\n",
    "print(find_match('^hello [a-z]* world$', 'hello  world'))\n",
    "print(find_match('^hello [a-z] world$', 'hello a world'))\n",
    "print(find_match('^hello [a-zA-Z0-9] world$', 'hello 2 world'))\n",
    "print(find_match('^hello [a-zA-Z0-9] world$', 'hello A world'))\n",
    "print(find_match('^hello [a-zA-Z0-9] world$', 'hello * world'))"
   ]
  },
  {
   "cell_type": "code",
   "execution_count": 40,
   "metadata": {
    "collapsed": false
   },
   "outputs": [
    {
     "name": "stdout",
     "output_type": "stream",
     "text": [
      "'hello * world' matches pattern '.*'\n",
      "'hello * world' matches pattern '[a-z]*'\n"
     ]
    }
   ],
   "source": [
    "# .* is anything, * is zero to any number of the preceding pattern\n",
    "print(find_match('.*', 'hello * world'))\n",
    "print(find_match('[a-z]*', 'hello * world'))"
   ]
  },
  {
   "cell_type": "code",
   "execution_count": 45,
   "metadata": {
    "collapsed": false
   },
   "outputs": [
    {
     "name": "stdout",
     "output_type": "stream",
     "text": [
      "'1.1' matches pattern '\\d+\\.\\d+'\n",
      "'11.1' does not match pattern '\\d?\\.\\d+'\n",
      "'1.1' matches pattern '\\d?\\.\\d+'\n",
      "'111111.1%' matches pattern '\\d*\\.\\d+\\%'\n"
     ]
    }
   ],
   "source": [
    "# + means one or more, ? is none or one\n",
    "print(find_match('\\d+\\.\\d+', '1.1'))\n",
    "print(find_match('\\d?\\.\\d+', '11.1'))\n",
    "print(find_match('\\d?\\.\\d+', '1.1'))\n",
    "print(find_match('\\d*\\.\\d+\\%', '111111.1%'))"
   ]
  },
  {
   "cell_type": "code",
   "execution_count": 49,
   "metadata": {
    "collapsed": false
   },
   "outputs": [
    {
     "name": "stdout",
     "output_type": "stream",
     "text": [
      "'abcde' matches pattern '[a-z]{5}'\n",
      "'abcdef' matches pattern '[a-z]{5}'\n",
      "'abcd' does not match pattern '[a-z]{5}'\n",
      "'abcabc' matches pattern '(abc){2}'\n",
      "'abc' does not match pattern '(abc){2}'\n"
     ]
    }
   ],
   "source": [
    "# {n} must have at least n number of items\n",
    "print(find_match('[a-z]{5}', 'abcde'))\n",
    "print(find_match('[a-z]{5}', 'abcdef'))\n",
    "print(find_match('[a-z]{5}', 'abcd'))\n",
    "print(find_match('(abc){2}', 'abcabc'))\n",
    "print(find_match('(abc){2}', 'abc'))"
   ]
  },
  {
   "cell_type": "code",
   "execution_count": null,
   "metadata": {
    "collapsed": true
   },
   "outputs": [],
   "source": []
  }
 ],
 "metadata": {
  "anaconda-cloud": {},
  "kernelspec": {
   "display_name": "Python [conda root]",
   "language": "python",
   "name": "conda-root-py"
  },
  "language_info": {
   "codemirror_mode": {
    "name": "ipython",
    "version": 3
   },
   "file_extension": ".py",
   "mimetype": "text/x-python",
   "name": "python",
   "nbconvert_exporter": "python",
   "pygments_lexer": "ipython3",
   "version": "3.5.2"
  }
 },
 "nbformat": 4,
 "nbformat_minor": 1
}
