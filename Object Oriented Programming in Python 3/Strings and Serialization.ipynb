{
 "cells": [
  {
   "cell_type": "code",
   "execution_count": 5,
   "metadata": {
    "collapsed": false
   },
   "outputs": [
    {
     "name": "stdout",
     "output_type": "stream",
     "text": [
      "4\n",
      "2\n",
      "13\n",
      "14\n",
      "whoopsies\n"
     ]
    }
   ],
   "source": [
    "# basics of string manipulations, just for funsies\n",
    "\n",
    "s = \"Hellloooooo World!\"\n",
    "\n",
    "print(s.count('l'))\n",
    "\n",
    "print(s.find(\"l\"))\n",
    "\n",
    "print(s.rindex('o'))\n",
    "\n",
    "print(s.rfind('r'))\n",
    "\n",
    "try:\n",
    "    s.rindex('m')\n",
    "except ValueError:\n",
    "    print('whoopsies')"
   ]
  },
  {
   "cell_type": "code",
   "execution_count": 12,
   "metadata": {
    "collapsed": false
   },
   "outputs": [
    {
     "name": "stdout",
     "output_type": "stream",
     "text": [
      "this is a string with things and stuff\n",
      "['this', 'is', 'a', 'string', 'with', 'things', 'and', 'stuff']\n",
      "thisΩisΩaΩstringΩwithΩthingsΩandΩstuff\n",
      "this∑is∑a∑string∑with∑things∑and∑stuff\n"
     ]
    }
   ],
   "source": [
    "ss = 'this is a string with things and stuff'\n",
    "\n",
    "ssl = ss.split(' ')\n",
    "\n",
    "print(ss)\n",
    "print(ssl)\n",
    "\n",
    "ssj = 'Ω'.join(ssl)\n",
    "print(ssj)\n",
    "ssjj = ssj.replace('Ω', '∑')\n",
    "print(ssjj)"
   ]
  },
  {
   "cell_type": "code",
   "execution_count": 14,
   "metadata": {
    "collapsed": false
   },
   "outputs": [
    {
     "name": "stdout",
     "output_type": "stream",
     "text": [
      "words derps and words and derpus of words\n",
      "\n",
      "wordy oppa oppu word word oppa ippa\n"
     ]
    }
   ],
   "source": [
    "temply = \"words {} and words and {} of words\"\n",
    "print(temply.format('derps', 'derpus'))\n",
    "\n",
    "print()\n",
    "\n",
    "temply2 = 'wordy {0} {1} word word {0} {2}'\n",
    "print(temply2.format('oppa', 'oppu', 'ippa'))\n",
    "\n",
    "# note, can't use empty curly brackets and indexed ones, there will be errors"
   ]
  },
  {
   "cell_type": "code",
   "execution_count": 18,
   "metadata": {
    "collapsed": false
   },
   "outputs": [
    {
     "name": "stdout",
     "output_type": "stream",
     "text": [
      "\n",
      " Alexa is it?\n",
      " How are you Alexa?\n",
      " \n",
      " Do you like my Dog?\n",
      " Derpy derpy derp\n",
      "\n"
     ]
    }
   ],
   "source": [
    "templo = '''\n",
    " {name} is it?\n",
    " How are you {name}?\n",
    " \n",
    " Do you like my {pet}?\n",
    " Derpy derpy {derp}\n",
    "'''\n",
    "\n",
    "print(templo.format(name=\"Alexa\", pet='Dog', derp='derp'))"
   ]
  },
  {
   "cell_type": "code",
   "execution_count": 23,
   "metadata": {
    "collapsed": false
   },
   "outputs": [
    {
     "name": "stdout",
     "output_type": "stream",
     "text": [
      "\n",
      "\n",
      "(1, 2) buckle my shoe\n",
      "(3, 4) derp the floor\n",
      "\n",
      "(7, 8) aligators gate\n",
      "\n",
      "\n"
     ]
    }
   ],
   "source": [
    "templi = '''\n",
    "\n",
    "{0[0]} {action1}\n",
    "{0[1]} {action2}\n",
    "\n",
    "(7, 8) aligators gate\n",
    "\n",
    "'''\n",
    "numy = ((1, 2), (3, 4))\n",
    "print(templi.format(numy, action1='buckle my shoe', action2='derp the floor'))"
   ]
  },
  {
   "cell_type": "code",
   "execution_count": 27,
   "metadata": {
    "collapsed": false
   },
   "outputs": [
    {
     "name": "stdout",
     "output_type": "stream",
     "text": [
      "'the dan ish minister owned a dirty sand shrew' does not match pattern 'dan'\n"
     ]
    }
   ],
   "source": [
    "import sys\n",
    "import re\n",
    "\n",
    "def find_match(pattern, search_string):\n",
    "    match = re.match(pattern, search_string)\n",
    "    \n",
    "    if match:\n",
    "        template = \"'{}' matches pattern '{}'\"\n",
    "    else:\n",
    "        template = \"'{}' does not match pattern '{}'\"\n",
    "        \n",
    "    return template.format(search_string, pattern)\n",
    "\n",
    "\n",
    "print(find_match('hello', 'the dan ish minister owned a dirty sand shrew'))"
   ]
  },
  {
   "cell_type": "code",
   "execution_count": null,
   "metadata": {
    "collapsed": true
   },
   "outputs": [],
   "source": []
  }
 ],
 "metadata": {
  "anaconda-cloud": {},
  "kernelspec": {
   "display_name": "Python [conda root]",
   "language": "python",
   "name": "conda-root-py"
  },
  "language_info": {
   "codemirror_mode": {
    "name": "ipython",
    "version": 3
   },
   "file_extension": ".py",
   "mimetype": "text/x-python",
   "name": "python",
   "nbconvert_exporter": "python",
   "pygments_lexer": "ipython3",
   "version": "3.5.2"
  }
 },
 "nbformat": 4,
 "nbformat_minor": 1
}
